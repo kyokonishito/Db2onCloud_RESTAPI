{
 "cells": [
  {
   "cell_type": "markdown",
   "metadata": {
    "collapsed": true
   },
   "source": [
    "# Db2 on Cloud REST API\n",
    "\n",
    "\n",
    "APIDoc: https://cloud.ibm.com/apidocs/db2-on-cloud/db2-on-cloud-v4\n",
    "\n",
    "こちらは[IBM Database Dojo Db2 REST APIを使ってみよう! 〜Db2 on Cloud編〜](https://ibm-developer.connpass.com/event/288544/)で使用するnotebookです"
   ]
  },
  {
   "cell_type": "markdown",
   "metadata": {},
   "source": [
    "# 0. 前準備\n",
    "\n",
    "必要なライブラリの導入やimportをまとめて行います。\n",
    "セルを実行してください。\n",
    "\n",
    "\n",
    "**実行は　セルを選択して**<br>\n",
    "**Windows： Ctrl+Enter**<br>\n",
    "**Mac: ⌘ (command) + Enter 　または Ctrl + Enter**<br>"
   ]
  },
  {
   "cell_type": "code",
   "execution_count": null,
   "metadata": {},
   "outputs": [],
   "source": [
    "# 必要なイブラリのインストール\n",
    "!pip install japanize-matplotlib #日本語グラフ用"
   ]
  },
  {
   "cell_type": "code",
   "execution_count": null,
   "metadata": {},
   "outputs": [],
   "source": [
    "# 必要なイブラリのimport (グラフ用のみ4-3でimport)\n",
    "import requests\n",
    "import sys\n",
    "import pandas as pd\n",
    "import json"
   ]
  },
  {
   "cell_type": "markdown",
   "metadata": {},
   "source": [
    "# 1. 必要な情報を入手しましょう！\n",
    "\n",
    "- Db2 REST Service URL \n",
    "  - Db2 on Cloud Web UIの「管理」→ 「接続」から取得\n",
    "\n",
    "- ターゲットのDb2 on CloudのCRN\n",
    "  - IBM Cloudのリソースリスト　または　 \n",
    "  - Db2 on Cloud Web UIの「製品情報」の「名前」から取得\n",
    "\n",
    "- ターゲットのDb2 on Cloudの\n",
    "    - useridとパスワード\n",
    "     - hostname, port, db 名\n",
    "\n",
    "詳細はQiita[Db2 on CloudのREST APIを使用したデータロード (python & curl)「1. 前準備」](https://qiita.com/nishikyon/items/cf45ffa83334444674dc#1-%E5%89%8D%E6%BA%96%E5%82%99)を参照してください。\n",
    "\n",
    "取得した情報を以下の変数にセットします。<>で囲まれた部分を取得した値に置き換えてください。\n",
    "入力完了後、セルの実行をしてください。\n",
    "\n",
    "\n"
   ]
  },
  {
   "cell_type": "code",
   "execution_count": null,
   "metadata": {},
   "outputs": [],
   "source": [
    "#必要な変数のセット\n",
    "REST_API_URL = \"<Db2 REST Service URL>\"\n",
    "CRN = \"<ターゲットのDb2 on CloudのCRN>\"\n",
    "DB_USERID = \"<dbのuserid>\"\n",
    "DB_PW = \"<dbのpassword>\""
   ]
  },
  {
   "cell_type": "markdown",
   "metadata": {},
   "source": [
    "確認\n",
    "\n",
    "以下のセルを実行してセットした値が表示されればOKです。"
   ]
  },
  {
   "cell_type": "code",
   "execution_count": null,
   "metadata": {},
   "outputs": [],
   "source": [
    "print(f'REST_API_URL: {REST_API_URL}')\n",
    "print(f'CRN: {CRN}')\n",
    "print(f'DB_USERID: {DB_USERID}')\n",
    "print(f'DB_PW: {DB_PW}')"
   ]
  },
  {
   "cell_type": "markdown",
   "metadata": {},
   "source": [
    "# 2. アクセストークンの取得\n",
    "APIDoc: https://cloud.ibm.com/apidocs/db2-on-cloud/db2-on-cloud-v4#authenticate に従って、アクセストークンを取得します。\n"
   ]
  },
  {
   "cell_type": "code",
   "execution_count": null,
   "metadata": {},
   "outputs": [],
   "source": [
    "#REST API の　　URL 作成\n",
    "service_name = '/dbapi/v4/auth/tokens'\n",
    "url = 'https://' + REST_API_URL + service_name\n",
    "\n",
    "# request header作成\n",
    "headers = {}\n",
    "headers ['content-type'] = \"application/json\"\n",
    "headers ['x-deployment-id']= CRN\n",
    "\n",
    "\n",
    "# parameter dbアクセス用のuid, pwを指定\n",
    "params = {}\n",
    "params['userid'] = DB_USERID\n",
    "params['password']= DB_PW\n",
    "\n",
    "# RESTserviceの呼び出し　POST\n",
    "try:\n",
    "    r = requests.post(url, headers=headers,  json=params)\n",
    "except Exception as err:\n",
    "    print(\"RESTful call failed. Detailed information follows.\")\n",
    "    print(err)\n",
    "    sys.exit()\n",
    "\n",
    "#  Invalid credentials　エラーの確認\n",
    "if (r.status_code == 401): # There was an error with the authentication\n",
    "    print(\"RESTful called failed.\")\n",
    "    message = r.json()['errors']\n",
    "    print(message)\n",
    "    sys.exit()\n",
    "\n",
    "# 401または200以外の場合は何かエラーがあるので確認(401は上で確認済み)\n",
    "if (r.status_code != 200): # Some other failure\n",
    "    print(\"RESTful called failed. Detailed information follows.\")\n",
    "    print(r.json())\n",
    "    sys.exit()\n",
    "\n",
    "# access tokenの取得\n",
    "try:\n",
    "    access_token = r.json()['token'] \n",
    "    #print(r.json())\n",
    "except:\n",
    "    print(\"RESTful call did not return an access token.\")\n",
    "    print(r.json())\n",
    "    sys.exit()\n",
    "\n",
    "# access_token　の表示\n",
    "print (access_token)"
   ]
  },
  {
   "cell_type": "markdown",
   "metadata": {},
   "source": [
    "#  3. 試しにDB情報を取得してみる\n",
    "\n",
    "- Get system information\n",
    "  - https://cloud.ibm.com/apidocs/db2-on-cloud/db2-on-cloud-v4?code=python#getaboutinfo\n"
   ]
  },
  {
   "cell_type": "code",
   "execution_count": null,
   "metadata": {},
   "outputs": [],
   "source": [
    "#REST API の　　URL 作成\n",
    "service_name = f'/dbapi/v4/about'\n",
    "url = 'https://' + REST_API_URL + service_name\n",
    "\n",
    "# request header作成\n",
    "headers = {}\n",
    "headers ['content-type'] = \"application/json\"\n",
    "headers ['authorization'] =  'Bearer ' + access_token #アクセストークンをHeaderにセット\n",
    "headers ['x-deployment-id'] = CRN\n",
    "\n",
    "# RESTserviceの呼び出し　GET\n",
    "try:\n",
    "    r = requests.get(url, headers=headers)\n",
    "   # print( r.status_code)\n",
    "except Exception as err:\n",
    "    print(\"RESTful call failed. Detailed information follows.\")\n",
    "    print(err)\n",
    "\n",
    "# Invalid credentials　エラーの確認\n",
    "if (r.status_code == 401): # There was an error with the authentication\n",
    "    print(\"RESTful called failed.\")\n",
    "    message = r.json()['errors']\n",
    "    print(message)\n",
    "    \n",
    "# 401または200以外の場合は何かエラーがあるので確認(401は上で確認済み)\n",
    "elif (r.status_code != 200): # Some other failure\n",
    "    print(\"RESTful called failed. Detailed information follows.\")\n",
    "    print(r.text)\n",
    "\n",
    "else:\n",
    "     print(json.dumps(r.json(), indent=4))"
   ]
  },
  {
   "cell_type": "markdown",
   "metadata": {},
   "source": [
    "# "
   ]
  },
  {
   "cell_type": "markdown",
   "metadata": {},
   "source": [
    "# 4. SQLの実行 \n",
    "API: https://cloud.ibm.com/apidocs/db2-on-cloud/db2-on-cloud-v4#runsql\n",
    "\n",
    "[東京都オープンデータカタログサイト](https://portal.data.metro.tokyo.lg.jp/)に「[東京都卸売市場日報（2022年度）](https://catalog.data.metro.tokyo.lg.jp/dataset/t000013d0000000005)」というデータがあります。\n",
    "\n",
    "今回はこの中から[東京都卸売市場日報（販売予定数量・水産)](https://catalog.data.metro.tokyo.lg.jp/dataset/t000013d0000000005/resource/90f272ac-ef4c-4a9b-ad82-b4e183becfdf)のcsvファイルをDb2上のテーブルにロードしています。\n",
    "\n",
    "東京都卸売市場日報（販売予定数量・水産)から、月毎の「まぐろ（生鮮）」の「卸売予定数量(t)」を出してみます。\n",
    "\n",
    "\n",
    "手順は以下となります(2ステップとなります)\n",
    "1. SQLの実行をリクエストし、JOBIDを取得\n",
    "1. JOBIDを元に結果を取得\n",
    "\n"
   ]
  },
  {
   "cell_type": "markdown",
   "metadata": {},
   "source": [
    "## 4-1. SQLの実行\n",
    "\n",
    "API Doc: https://cloud.ibm.com/apidocs/db2-on-cloud/db2-on-cloud-v4#runsql\n",
    "\n",
    "バックグラウンド・ジョブとして 1 つ以上の SQL 文を実行します。このエンドポイントは、結果を取得するために使用できるジョブ ID を返します。\n",
    "\n",
    "東京都卸売市場日報（販売予定数量・水産)から、月毎の「まぐろ（生鮮）」の「卸売予定数量(t)」を出すSQL:\n",
    "```\n",
    "SELECT TO_CHAR(\"日付\",'yyyy-mm') AS \"年月\", sum(\"卸売予定数量(t)\") AS \"卸売予定数量(t)\" \n",
    "FROM TOKYO_FISH \n",
    "WHERE \"品名\" = 'まぐろ（生鮮）'\n",
    "GROUP BY TO_CHAR(\"日付\",'yyyy-mm') ;\n",
    "```"
   ]
  },
  {
   "cell_type": "code",
   "execution_count": null,
   "metadata": {},
   "outputs": [],
   "source": [
    "# Executes SQL statements\n",
    "#  SQLの実行\n",
    "#  API Doc: API Doc: https://cloud.ibm.com/apidocs/db2-on-cloud/db2-on-cloud-v4#runsql\n",
    "\n",
    "\n",
    "#REST API の　　URL 作成\n",
    "service_name = '/dbapi/v4/sql_jobs'\n",
    "url = 'https://' + REST_API_URL + service_name\n",
    "\n",
    "# request header作成\n",
    "headers = {}\n",
    "headers ['content-type'] = \"application/json\"\n",
    "headers ['authorization'] =  'Bearer ' + access_token #アクセストークンをHeaderにセット\n",
    "headers ['x-deployment-id'] = CRN\n",
    "\n",
    "# SQL文とオプションのセット\n",
    "data = {\n",
    "  #SQL文\n",
    "  \"commands\": 'SELECT TO_CHAR(\"日付\",\\'yyyy-mm\\') AS \"年月\", sum(\"卸売予定数量(t)\") AS \"卸売予定数量(t)\" \\\n",
    "    FROM TOKYO_FISH WHERE \"品名\" = \\'まぐろ（生鮮）\\' \\\n",
    "        GROUP BY TO_CHAR(\"日付\", \\'yyyy-mm\\') ;',\n",
    "  #各結果セットでフェッチされる行の最大数\n",
    "  \"limit\"  : 1000000,\n",
    "  #SQL スクリプトに複数のステートメントが含まれている場合に、SQL ステートメントの終了を示すために使用される文字\n",
    "   \"separator\": \";\",\n",
    "   #yes'の場合、ジョブはエラーを返す最初のステートメントで実行を停止する。no' の場合、1つ以上のステートメントがエラーを返してもジョブの実行は継続される。\n",
    "   \"stop_on_error\":\"no\"\n",
    "}\n",
    "\n",
    "# RESTserviceの呼び出し　POST\n",
    "try:\n",
    "    r = requests.post(url, headers=headers, json=data)\n",
    "    print( r.status_code)\n",
    "except Exception as err:\n",
    "    print(\"RESTful call failed. Detailed information follows.\")\n",
    "    print(err)\n",
    "\n",
    "\n",
    "# Invalid credentials　エラーの確認\n",
    "if (r.status_code == 401): # There was an error with the authentication\n",
    "    print(\"RESTful called failed.\")\n",
    "    message = r.json()['errors']\n",
    "    print(message)\n",
    "\n",
    "\n",
    "# 401または201以外の場合は何かエラーがあるので確認(401は上で確認済み)\n",
    "elif (r.status_code != 201): # Some other failure\n",
    "    print(\"RESTful called failed. Detailed information follows.\")\n",
    "    print(r.text)\n",
    "    #print(json.dumps(r.json(), indent=4))\n",
    "\n",
    "\n",
    "# レスポンスを出力\n",
    "else:\n",
    "    print(json.dumps(r.json(), indent=4))\n",
    "    JOB_ID = r.json()[\"id\"] #このldの値は次のRESTAPIで使用する\n",
    "    print(f\"JOB_ID: {JOB_ID}\" )   \n"
   ]
  },
  {
   "cell_type": "markdown",
   "metadata": {},
   "source": [
    "## 4-2. SQL実行結果の取得\n",
    "\n",
    "APIDoc: https://cloud.ibm.com/apidocs/db2-on-cloud/db2-on-cloud-v4#fetchsqlresults\n",
    "\n",
    "- SQL ジョブの実行の現在のステータスと、すでに実行された SQL 文の結果を返します。\n",
    "- クライアントは、返されるステータスが 'completed' (すべての SQL 文の実行が完了したことを示す) か 'failed' (ジョブの実行に失敗したため終了したと見なされる) のいずれかになるまで、このエンドポイントをポーリングすることになっています。\n",
    "- 返される結果のリストは累積されません。つまり、以前の呼び出しで取得された結果は再度返されず、新しい結果（つまり、まだ取得されていない結果）のみが含まれます。\n",
    "  - 例えば、10個のSQL文を持つジョブを想定すると、最初の呼び出しはステータス \"running \"と6個の結果を返し、2回目の呼び出しはステータス \"running \"と空の結果リストを返し、3回目の呼び出しはステータス \"completed \"と4個の結果を返します。それ以降の呼び出しは、ステータス \"completed \"と空の結果リストを返します。  "
   ]
  },
  {
   "cell_type": "code",
   "execution_count": null,
   "metadata": {},
   "outputs": [],
   "source": [
    "# Fetches partial results of a SQL job execution\n",
    "#   SQL実行結果の取得\n",
    "#  API Doc: https://cloud.ibm.com/apidocs/db2-on-cloud/db2-on-cloud-v4#fetchsqlresults\n",
    "# Stasuがcompletedになるまで何度も実行\n",
    "\n",
    "\n",
    "#REST API の　　URL 作成\n",
    "service_name = f'/dbapi/v4/sql_jobs/{JOB_ID}'\n",
    "url = 'https://' + REST_API_URL + service_name\n",
    "\n",
    "# request header作成\n",
    "headers = {}\n",
    "headers ['content-type'] = \"application/json\"\n",
    "headers ['authorization'] =  'Bearer ' + access_token #アクセストークンをHeaderにセット\n",
    "headers ['x-deployment-id'] = CRN\n",
    "\n",
    "# RESTserviceの呼び出し　GET\n",
    "try:\n",
    "    r = requests.get(url, headers=headers)\n",
    "   # print( r.status_code)\n",
    "except Exception as err:\n",
    "    print(\"RESTful call failed. Detailed information follows.\")\n",
    "    print(err)\n",
    "\n",
    "# Invalid credentials　エラーの確認\n",
    "if (r.status_code == 401): # There was an error with the authentication\n",
    "    print(\"RESTful called failed.\")\n",
    "    message = r.json()['errors']\n",
    "    print(message)\n",
    "    \n",
    "# 401または200以外の場合は何かエラーがあるので確認(401は上で確認済み)\n",
    "elif (r.status_code != 200): # Some other failure\n",
    "    print(\"RESTful called failed. Detailed information follows.\")\n",
    "    print(r.text)\n",
    "\n",
    "else:\n",
    "    print(f'Status: {r.json()[\"status\"]}')\n",
    "    # SQL文は1つのみの想定\n",
    "    if r.json()[\"status\"] != \"failed\":\n",
    "        if len(r.json()[\"results\"]) > 0:\n",
    "            if 'error' in r.json()[\"results\"][0] : #エラーの場合はresponseメッセージを表示\n",
    "                print(json.dumps(r.json(), indent=4))\n",
    "            else: \n",
    "                #結果をpandasのDataFrameに入れる, SQL文は1つのみの想定\n",
    "                #print(json.dumps(r.json(), indent=4))\n",
    "                df = pd.DataFrame(data=r.json()[\"results\"][0][\"rows\"] , columns =r.json()[\"results\"][0][\"columns\"])\n",
    "                # 結果の表示\n",
    "                display(result_df)\n",
    "        else:\n",
    "            # 結果セットがない場合はresponseメッセージを表示\n",
    "            print(json.dumps(r.json(), indent=4))\n",
    "    else:\n",
    "        # failの場合はresponseメッセージを表示\n",
    "        print(json.dumps(r.json(), indent=4))\n",
    "        \n"
   ]
  },
  {
   "cell_type": "markdown",
   "metadata": {},
   "source": [
    "## 4-3.せっかくなのでグラフにしてみます"
   ]
  },
  {
   "cell_type": "code",
   "execution_count": null,
   "metadata": {},
   "outputs": [],
   "source": [
    "import numpy as np\n",
    "import matplotlib.pyplot as plt\n",
    "import japanize_matplotlib\n",
    "\n",
    "df[\"卸売予定数量(t)\"] = pd.to_numeric(df[\"卸売予定数量(t)\"])\n",
    "\n",
    "ax=df.plot.bar(x=\"年月\", y=\"卸売予定数量(t)\", figsize=(20,8))\n",
    "\n",
    "ax.set_title(\"まぐろ(生鮮)卸売予定数量(t)\")\n",
    "plt.show()"
   ]
  }
 ],
 "metadata": {
  "kernelspec": {
   "display_name": "Python 3.10",
   "language": "python",
   "name": "python3"
  },
  "language_info": {
   "codemirror_mode": {
    "name": "ipython",
    "version": 3
   },
   "file_extension": ".py",
   "mimetype": "text/x-python",
   "name": "python",
   "nbconvert_exporter": "python",
   "pygments_lexer": "ipython3",
   "version": "3.11.4"
  }
 },
 "nbformat": 4,
 "nbformat_minor": 1
}
